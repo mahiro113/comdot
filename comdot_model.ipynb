{
 "cells": [
  {
   "cell_type": "markdown",
   "id": "e30f5cea",
   "metadata": {},
   "source": [
    "# インポートするもの"
   ]
  },
  {
   "cell_type": "code",
   "execution_count": 2,
   "id": "75f00898",
   "metadata": {},
   "outputs": [],
   "source": [
    "import pandas as pd\n",
    "import numpy as np\n",
    "import demoji\n",
    "import MeCab\n",
    "from sklearn.feature_extraction.text import TfidfVectorizer\n",
    "from sklearn.naive_bayes import MultinomialNB\n",
    "from sklearn.pipeline import make_pipeline\n",
    "from imblearn.under_sampling import RandomUnderSampler\n",
    "from sklearn.model_selection import train_test_split\n",
    "from sklearn.metrics import confusion_matrix\n",
    "import seaborn as sns \n",
    "from sklearn.metrics import accuracy_score\n",
    "sns.set()\n",
    "%matplotlib inline\n",
    "import matplotlib.pyplot as plt\n",
    "import neologdn\n",
    "\n",
    "path = 'C:/mecab-ipadic-neologd'#自分のneologd辞書があるpath"
   ]
  },
  {
   "cell_type": "code",
   "execution_count": 3,
   "id": "45efcdda",
   "metadata": {},
   "outputs": [
    {
     "name": "stdout",
     "output_type": "stream",
     "text": [
      "<class 'pandas.core.frame.DataFrame'>\n",
      "RangeIndex: 3249 entries, 0 to 3248\n",
      "Data columns (total 5 columns):\n",
      " #   Column   Non-Null Count  Dtype \n",
      "---  ------   --------------  ----- \n",
      " 0   yuma     1476 non-null   object\n",
      " 1   yamato   1332 non-null   object\n",
      " 2   amugiri  3249 non-null   object\n",
      " 3   hyuga    560 non-null    object\n",
      " 4   yuta     686 non-null    object\n",
      "dtypes: object(5)\n",
      "memory usage: 127.0+ KB\n"
     ]
    }
   ],
   "source": [
    "comdot = pd.read_csv('comdot.csv')\n",
    "comdot.info()"
   ]
  },
  {
   "cell_type": "markdown",
   "id": "202ebc63",
   "metadata": {},
   "source": [
    "# 前処理関数"
   ]
  },
  {
   "cell_type": "code",
   "execution_count": 4,
   "id": "814bea17",
   "metadata": {},
   "outputs": [],
   "source": [
    "#DataFrame渡したら前処理したものを返す\n",
    "def memberTweet(df):\n",
    "    try:\n",
    "        df_member=pd.DataFrame(columns=['index','tweet','target'])\n",
    "        for target,member in enumerate(df.columns):\n",
    "            df_member_tweet = df[member].dropna()\n",
    "            df_tweet = tweetClean(df_member_tweet,target)\n",
    "            df_member = df_member.append(df_tweet)\n",
    "        df_member = df_member.drop('index',axis=1).reset_index()\n",
    "    except Exception as e:\n",
    "        print(e)      \n",
    "        \n",
    "    return df_member\n",
    "\n",
    "#tweetをきれいにする\n",
    "def tweetClean(tweet_S,target):\n",
    "    try:\n",
    "        df = pd.DataFrame({'tweet':tweet_S,'target':target})\n",
    "        df = df.query('not tweet.str.startswith(\"RT\")',engine='python').reset_index()\n",
    "        df['tweet'] = df['tweet'].replace(r\"(https?|ftp)(:\\/\\/[-_\\.!~*\\'()a-zA-Z0-9;\\/?:\\@&=\\+\\$,%#]+)\",\n",
    "                                          \"\",regex=True) #URL\n",
    "        df['tweet'] = df['tweet'].replace(r\"\\@[\\w]+\",\"\",regex=True) #twitterID\n",
    "        df['tweet'] = df['tweet'].str[:-13] #日付\n",
    "        df['tweet'].astype(str)\n",
    "        df['tweet'] = df['tweet'].apply(lambda x:neologdn.normalize(x))#カタカナを全角、数字を半角など\n",
    "        df['tweet'] = df['tweet'].apply(demojitxt)#絵文字\n",
    "        df['tweet'] = df['tweet'].replace(r\"[0-9]+\",\"0\",regex=True)#数字半角\n",
    "        df['tweet'] = df['tweet'].replace(r\"[０-９]+\",\"0\",regex=True)#数字全角\n",
    "        df['tweet'] = df['tweet'].apply(lambda x: leaving_space_between_words_column(x,path)) #分かち書き\n",
    "        df['tweet'] = df['tweet'].str.replace('\\n','')\n",
    "        df['target'].astype(int)\n",
    "    except Exception as e:\n",
    "        print(e)\n",
    "    return df\n",
    "\n",
    "def demojitxt(txt):\n",
    "    try:\n",
    "        txt = demoji.replace(string=txt,repl=\"\")\n",
    "    except Exception as e:\n",
    "        print(e)\n",
    "        print(txt)\n",
    "    return txt\n",
    "\n",
    "def leaving_space_between_words_column(text,path):\n",
    "    tagger = MeCab.Tagger('-d {path}'.format(path=path))\n",
    "    splitted = ' '.join([x.split('\\t')[0] for x in tagger.parse(text).splitlines()[:-1] \n",
    "                         if x.split('\\t')[1].split(',')[0] not in ['助詞','助動詞', '接続詞', '記号']])\n",
    "    return splitted"
   ]
  },
  {
   "cell_type": "markdown",
   "id": "a8b7f20a",
   "metadata": {},
   "source": [
    "# モデル作成"
   ]
  },
  {
   "cell_type": "code",
   "execution_count": null,
   "id": "2d65cd3f",
   "metadata": {},
   "outputs": [],
   "source": [
    "#mecabをインストールしてない人\n",
    "#df = pd.read_csv('clean_comdot')\n",
    "#df.info"
   ]
  },
  {
   "cell_type": "code",
   "execution_count": 5,
   "id": "d0eca471",
   "metadata": {
    "scrolled": true
   },
   "outputs": [
    {
     "name": "stdout",
     "output_type": "stream",
     "text": [
      "<class 'pandas.core.frame.DataFrame'>\n",
      "RangeIndex: 6392 entries, 0 to 6391\n",
      "Data columns (total 3 columns):\n",
      " #   Column  Non-Null Count  Dtype \n",
      "---  ------  --------------  ----- \n",
      " 0   index   6392 non-null   int64 \n",
      " 1   tweet   6392 non-null   object\n",
      " 2   target  6392 non-null   object\n",
      "dtypes: int64(1), object(2)\n",
      "memory usage: 149.9+ KB\n"
     ]
    }
   ],
   "source": [
    "df = memberTweet(comdot)\n",
    "df.info()\n",
    "sns.set_style('darkgrid')"
   ]
  },
  {
   "cell_type": "markdown",
   "id": "3bc9c075",
   "metadata": {},
   "source": [
    "## アンダーサンプリングしてないモデル"
   ]
  },
  {
   "cell_type": "code",
   "execution_count": 22,
   "id": "600b03a1",
   "metadata": {},
   "outputs": [],
   "source": [
    "target = [0,1,2,3,4]#0:yuma,1:yamato,2:amugiri,3:hyuga,4:yuta\n",
    "X =df['tweet']\n",
    "y = df['target'].astype(int)"
   ]
  },
  {
   "cell_type": "code",
   "execution_count": 129,
   "id": "5d783380",
   "metadata": {},
   "outputs": [
    {
     "data": {
      "text/plain": [
       "2    3119\n",
       "1    1053\n",
       "0    1047\n",
       "4     631\n",
       "3     542\n",
       "Name: target, dtype: int64"
      ]
     },
     "execution_count": 129,
     "metadata": {},
     "output_type": "execute_result"
    }
   ],
   "source": [
    "y.value_counts()"
   ]
  },
  {
   "cell_type": "code",
   "execution_count": 23,
   "id": "39fc98d2",
   "metadata": {},
   "outputs": [],
   "source": [
    "X_train,X_test,y_train,y_test = train_test_split(X,y,test_size=0.2,random_state=100\n",
    "                                                 ,stratify=y)\n",
    "model = make_pipeline(TfidfVectorizer(),MultinomialNB())\n",
    "model.fit(X_train,y_train)\n",
    "labels = model.predict(X_test)"
   ]
  },
  {
   "cell_type": "code",
   "execution_count": 24,
   "id": "ba522eb6",
   "metadata": {},
   "outputs": [
    {
     "data": {
      "text/plain": [
       "Text(89.18, 0.5, 'predict label')"
      ]
     },
     "execution_count": 24,
     "metadata": {},
     "output_type": "execute_result"
    },
    {
     "data": {
      "image/png": "[encoded data removed]",
      "text/plain": [
       "<Figure size 432x288 with 1 Axes>"
      ]
     },
     "metadata": {},
     "output_type": "display_data"
    }
   ],
   "source": [
    "#アンダーサンプリングしてないモデル\n",
    "mat = confusion_matrix(y_test,labels,labels=target)\n",
    "\n",
    "sns.heatmap(mat.T,square=True,annot=True,fmt='d',cbar=False,\n",
    "           xticklabels=target,yticklabels=target,cmap='RdPu')\n",
    "plt.xlabel('true label')\n",
    "plt.ylabel('predict label')"
   ]
  },
  {
   "cell_type": "code",
   "execution_count": 31,
   "id": "fd29a3ac",
   "metadata": {
    "scrolled": false
   },
   "outputs": [
    {
     "data": {
      "text/plain": [
       "0.5410476935105551"
      ]
     },
     "execution_count": 31,
     "metadata": {},
     "output_type": "execute_result"
    }
   ],
   "source": [
    "accuracy_score(labels,y_test)"
   ]
  },
  {
   "cell_type": "markdown",
   "id": "bdab2963",
   "metadata": {},
   "source": [
    "## アンダーサンプリングしたモデル"
   ]
  },
  {
   "cell_type": "code",
   "execution_count": 5,
   "id": "ffb77940",
   "metadata": {},
   "outputs": [],
   "source": [
    "target = [0,1,2,3,4]#0:yuma,1:yamato,2:amugiri,3:hyuga,4:yuta\n",
    "X =df['tweet']\n",
    "y = df['target'].astype(int)\n",
    "X_train,X_test,y_train,y_test = train_test_split(X,y,test_size=0.2,random_state=100\n",
    "                                                 ,stratify=y)"
   ]
  },
  {
   "cell_type": "code",
   "execution_count": 6,
   "id": "49fb5a89",
   "metadata": {},
   "outputs": [],
   "source": [
    "rank4 = y_train.value_counts()[4]\n",
    "rank3 = y_train.value_counts()[3]"
   ]
  },
  {
   "cell_type": "code",
   "execution_count": 7,
   "id": "114b79ac",
   "metadata": {},
   "outputs": [],
   "source": [
    "rus = RandomUnderSampler(sampling_strategy={0:rank4,1:rank4,2:rank4,3:rank3,4:rank4},random_state=10)"
   ]
  },
  {
   "cell_type": "code",
   "execution_count": 8,
   "id": "d6d59849",
   "metadata": {
    "scrolled": true
   },
   "outputs": [],
   "source": [
    "X_ut,y_ut = rus.fit_resample(X_train.values.reshape(-1,1),y_train)\n",
    "X_uts = pd.Series(X_ut.reshape(-1))"
   ]
  },
  {
   "cell_type": "code",
   "execution_count": 9,
   "id": "a3a58d2f",
   "metadata": {},
   "outputs": [],
   "source": [
    "model = make_pipeline(TfidfVectorizer(),MultinomialNB())\n",
    "model.fit(X_uts,y_ut)\n",
    "labels = model.predict(X_test)"
   ]
  },
  {
   "cell_type": "code",
   "execution_count": 10,
   "id": "2651ba98",
   "metadata": {
    "scrolled": true
   },
   "outputs": [
    {
     "data": {
      "text/plain": [
       "Text(89.18, 0.5, 'predict label')"
      ]
     },
     "execution_count": 10,
     "metadata": {},
     "output_type": "execute_result"
    },
    {
     "data": {
      "image/png": "[encoded data removed]",
      "text/plain": [
       "<Figure size 432x288 with 1 Axes>"
      ]
     },
     "metadata": {},
     "output_type": "display_data"
    }
   ],
   "source": [
    "mat = confusion_matrix(y_test,labels,labels=target)\n",
    "\n",
    "sns.heatmap(mat.T,square=True,annot=True,fmt='d',cbar=False,\n",
    "           xticklabels=target,yticklabels=target,cmap='RdPu')\n",
    "plt.xlabel('true label')\n",
    "plt.ylabel('predict label')"
   ]
  },
  {
   "cell_type": "code",
   "execution_count": 11,
   "id": "f933bbd5",
   "metadata": {
    "scrolled": false
   },
   "outputs": [
    {
     "data": {
      "text/plain": [
       "0.40578577013291633"
      ]
     },
     "execution_count": 11,
     "metadata": {},
     "output_type": "execute_result"
    }
   ],
   "source": [
    "accuracy_score(labels,y_test)"
   ]
  },
  {
   "cell_type": "markdown",
   "id": "2adcead6",
   "metadata": {},
   "source": [
    "# 考察"
   ]
  },
  {
   "cell_type": "code",
   "execution_count": 100,
   "id": "1cfdef65",
   "metadata": {},
   "outputs": [
    {
     "name": "stdout",
     "output_type": "stream",
     "text": [
      "yumaのリプライ数： 481\n",
      "yumaの総ツイート数： 1047\n",
      "yumaのrep/tweet： 0.4594078319006686\n",
      "yamatoのリプライ数： 385\n",
      "yamatoの総ツイート数： 1053\n",
      "yamatoのrep/tweet： 0.36562203228869894\n",
      "amugiriのリプライ数： 2366\n",
      "amugiriの総ツイート数： 3119\n",
      "amugiriのrep/tweet： 0.7585764668162873\n",
      "hyugaのリプライ数： 232\n",
      "hyugaの総ツイート数： 542\n",
      "hyugaのrep/tweet： 0.4280442804428044\n",
      "yutaのリプライ数： 383\n",
      "yutaの総ツイート数： 631\n",
      "yutaのrep/tweet： 0.606973058637084\n"
     ]
    }
   ],
   "source": [
    "for num,mem in enumerate(comdot.columns):\n",
    "    s = len(comdot[['{mem}'.format(mem=mem)]].dropna().query(\"{mem}.str.startswith('@')\".format(mem=mem)\n",
    "                                                      ,engine='python'))\n",
    "    t = df['target'].value_counts()[num]\n",
    "    y = s / t \n",
    "    print('{mem}のリプライ数：'.format(mem=mem),s)\n",
    "    print('{mem}の総ツイート数：'.format(mem=mem),t)\n",
    "    print('{mem}のrep/tweet：'.format(mem=mem),y)"
   ]
  },
  {
   "cell_type": "markdown",
   "id": "47fecae6",
   "metadata": {},
   "source": [
    "・アンダーサンプリングしたモデルはしてないモデルに比べて正解率は低いが混同行列を比較して見てみるとアンダーサンプリングしたモデルのほうが上手く特徴を捉えられていることがわかる。\n",
    "・上のセルを見るとamugiriのリプライ割合は75%でおそらくファンに対して似たようなリプライを返しているため特徴がつかみにくく予測も分散したと考えられる。\n",
    "・yumaとyamatoの特徴はうまく捉えることができているように見える。\n",
    "・hyugaとyutaのリプライ割合は42%と60%でありamugiriより低いが総ツイート数は542と631で少ないため,特徴を捉えられずうまく分類できてないように考えられる。"
   ]
  },
  {
   "cell_type": "markdown",
   "id": "09b80764",
   "metadata": {},
   "source": [
    "# 実際にモデルに分類させる"
   ]
  },
  {
   "cell_type": "code",
   "execution_count": 64,
   "id": "c8488b3a",
   "metadata": {},
   "outputs": [],
   "source": [
    "#どれぐらいの割合でどのメンバーか表示する関数\n",
    "def predict_comdot(ds,model=model):\n",
    "    comdot_member = {0:'yuma',1:'yamato',2:'amugiri',3:'hyuga',4:'yuta'}\n",
    "    pred = model.predict(ds)\n",
    "    uni,counts =  np.unique(pred,return_counts=True)\n",
    "    print('あなたのツイート数：',len(pred))\n",
    "    for u,count in zip(uni,counts):\n",
    "        print(comdot_member[u] ,':', count)\n",
    "    parcent = counts.max()/len(pred)\n",
    "    member = comdot_member[uni[counts.tolist().index(counts.max())]]\n",
    "    print('あなたはのツイートは{par:.2%}ぐらいで{member}です'.format(par=parcent,member=member))\n",
    "    return uni,counts"
   ]
  },
  {
   "cell_type": "code",
   "execution_count": 7,
   "id": "502ebf34",
   "metadata": {},
   "outputs": [
    {
     "data": {
      "text/plain": [
       "0                                              強く なる 頑張る\n",
       "1                   配信 やっ てる 元気 出る なんで なん 終わる 涙 止まら なる の\n",
       "2      だめ まだ ち 弱い 泣い しまう 涙 軽い もの 気 する こと ない しれ 気持ち まと...\n",
       "3      貴様 送る もう ここ 見 くれ 君 心残り 感じ させる ため 書い てる わけ 前 向く...\n",
       "4                            彼 幸せ なっ くれ 言っ ただ ち 幸せ なら いけ\n",
       "                             ...                        \n",
       "201                ありがとう ちの 人生観 見 い人 見れる よう し こっち こっち 動く\n",
       "202                        憧れる の 自分 最大限 尽くせ それ ちの 考える 本気\n",
       "203                             なら ち 一人 多く 人 支え られる 人 なら\n",
       "204    こうたん みたい 編集 うまく なり 暇人 みたい 配信 面白く し ドク みたい 急 面白...\n",
       "205            臭い 発言 多い 言わ れ こっち これから 書く み たい人 見れる よう する\n",
       "Name: tweet, Length: 206, dtype: object"
      ]
     },
     "execution_count": 7,
     "metadata": {},
     "output_type": "execute_result"
    }
   ],
   "source": [
    "yaci = pd.read_csv('yaci.csv')\n",
    "yaci = yaci['yaci']\n",
    "yaci = tweetClean(yaci,0)\n",
    "yaci['tweet']"
   ]
  },
  {
   "cell_type": "code",
   "execution_count": 29,
   "id": "889d42d7",
   "metadata": {},
   "outputs": [],
   "source": [
    "comdot_member = {0:'yuma',1:'yamato',2:'amugiri',3:'hyuga',4:'yuta'}\n",
    "pred = model.predict(yaci['tweet'])"
   ]
  },
  {
   "cell_type": "code",
   "execution_count": 65,
   "id": "817e84db",
   "metadata": {
    "scrolled": false
   },
   "outputs": [
    {
     "name": "stdout",
     "output_type": "stream",
     "text": [
      "あなたのツイート数： 206\n",
      "yuma : 27\n",
      "yamato : 122\n",
      "amugiri : 20\n",
      "hyuga : 17\n",
      "yuta : 20\n",
      "あなたはのツイートは59.22%ぐらいでyamatoです\n"
     ]
    }
   ],
   "source": [
    "uni,counts = predict_comdot(yaci['tweet'])"
   ]
  },
  {
   "cell_type": "code",
   "execution_count": 76,
   "id": "f39f7875",
   "metadata": {},
   "outputs": [
    {
     "data": {
      "image/png": "[encoded data removed]",
      "text/plain": [
       "<Figure size 432x288 with 1 Axes>"
      ]
     },
     "metadata": {},
     "output_type": "display_data"
    }
   ],
   "source": [
    "#可視化\n",
    "plt.bar([comdot_member[u] for u in uni],counts,width=0.5)\n",
    "plt.xlabel('your categolize tweet')\n",
    "plt.show()\n"
   ]
  }
 ],
 "metadata": {
  "kernelspec": {
   "display_name": "Python 3 (ipykernel)",
   "language": "python",
   "name": "python3"
  },
  "language_info": {
   "codemirror_mode": {
    "name": "ipython",
    "version": 3
   },
   "file_extension": ".py",
   "mimetype": "text/x-python",
   "name": "python",
   "nbconvert_exporter": "python",
   "pygments_lexer": "ipython3",
   "version": "3.8.11"
  },
  "toc": {
   "base_numbering": 1,
   "nav_menu": {},
   "number_sections": true,
   "sideBar": true,
   "skip_h1_title": false,
   "title_cell": "Table of Contents",
   "title_sidebar": "Contents",
   "toc_cell": false,
   "toc_position": {
    "height": "calc(100% - 180px)",
    "left": "10px",
    "top": "150px",
    "width": "300.792px"
   },
   "toc_section_display": true,
   "toc_window_display": true
  }
 },
 "nbformat": 4,
 "nbformat_minor": 5
}
